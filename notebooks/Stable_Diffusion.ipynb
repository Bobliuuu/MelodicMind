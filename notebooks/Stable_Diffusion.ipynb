{
  "nbformat": 4,
  "nbformat_minor": 0,
  "metadata": {
    "colab": {
      "provenance": []
    },
    "kernelspec": {
      "name": "python3",
      "display_name": "Python 3"
    },
    "language_info": {
      "name": "python"
    }
  },
  "cells": [
    {
      "cell_type": "code",
      "execution_count": null,
      "metadata": {
        "id": "az4XYMe6ySoC"
      },
      "outputs": [],
      "source": [
        "# From https://github.com/huggingface/diffusers\n",
        "\n",
        "!pip install transformers scipy ftfy &quot;ipywidgets&gt;=7,&lt;8&quot; datasets\n",
        "!git clone https://github.com/huggingface/diffusers.git\n",
        "!pip install git+https://github.com/huggingface/diffusers.git\n",
        "!cd diffusers\n",
        "\n",
        "\n",
        "from huggingface_hub import notebook_login\n",
        "import torch\n",
        "from torch import autocast\n",
        "from diffusers import StableDiffusionPipeline, LMSDiscreteScheduler\n",
        "import requests\n",
        "from PIL import Image\n",
        "from io import BytesIO\n",
        "from google.colab import files\n",
        "\n",
        "lms = LMSDiscreteScheduler(\n",
        "    beta_start=0.00085,\n",
        "    beta_end=0.012,\n",
        "    beta_schedule=&quot;scaled_linear&quot;\n",
        ")\n",
        "\n",
        "pipe = StableDiffusionPipeline.from_pretrained(\n",
        "    \"CompVis/stable-diffusion-v1-4\",\n",
        "    scheduler=lms,\n",
        "    revision=\"fp16\",\n",
        "    use_auth_token=True\n",
        ").to(\"cuda\") # CPU if local\n",
        "\n",
        "prompt = \"Today is my birthday and I'm so excited!\"\n",
        "\n",
        "with autocast(\"cuda\"):\n",
        "    image = pipe(prompt)[\"sample\"][0]"
      ]
    }
  ]
}