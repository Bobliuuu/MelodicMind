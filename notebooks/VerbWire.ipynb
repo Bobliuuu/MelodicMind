{
  "nbformat": 4,
  "nbformat_minor": 0,
  "metadata": {
    "colab": {
      "provenance": []
    },
    "kernelspec": {
      "name": "python3",
      "display_name": "Python 3"
    },
    "language_info": {
      "name": "python"
    }
  },
  "cells": [
    {
      "cell_type": "code",
      "source": [
        "import requests"
      ],
      "metadata": {
        "id": "Ngrh3z-1V1bl"
      },
      "execution_count": 2,
      "outputs": []
    },
    {
      "cell_type": "code",
      "source": [
        "API_KEY = \"[REDACTED]\""
      ],
      "metadata": {
        "id": "PreLN7Uialx8"
      },
      "execution_count": null,
      "outputs": []
    },
    {
      "cell_type": "code",
      "execution_count": 3,
      "metadata": {
        "colab": {
          "base_uri": "https://localhost:8080/"
        },
        "id": "fPLelGFKVvh3",
        "outputId": "b01c8def-5a4d-4b44-9817-fe4f1eb32424"
      },
      "outputs": [
        {
          "output_type": "stream",
          "name": "stdout",
          "text": [
            "{\"quick_mint\":{\"transactionHash\":\"0x735c9df09c0bfbbc5c2c73fb92bbf88d8a362e9e3860c0375b325b443648551f\",\"blockExplorer\":\"https://mumbai.polygonscan.com/tx/0x735c9df09c0bfbbc5c2c73fb92bbf88d8a362e9e3860c0375b325b443648551f\",\"transactionID\":\"64cf310396dcb825c6af20a7\",\"status\":\"Sent\"}}\n"
          ]
        }
      ],
      "source": [
        "url = \"https://api.verbwire.com/v1/nft/mint/quickMintFromMetadataUrl\"\n",
        "\n",
        "payload = \"-----011000010111000001101001\\r\\nContent-Disposition: form-data; name=\\\"allowPlatformToOperateToken\\\"\\r\\n\\r\\ntrue\\r\\n-----011000010111000001101001\\r\\nContent-Disposition: form-data; name=\\\"chain\\\"\\r\\n\\r\\nmumbai\\r\\n-----011000010111000001101001\\r\\nContent-Disposition: form-data; name=\\\"metadataUrl\\\"\\r\\n\\r\\nhttps://ipfs.io/ipfs/bafkreigjkcafrutdcbicyr3new6aoowgbscf6wgqyty45ckd3xur7ymldm\\r\\n-----011000010111000001101001\\r\\nContent-Disposition: form-data; name=\\\"recipientAddress\\\"\\r\\n\\r\\n0x8a73596507BFd153114c2A9B890A03d72DDc0FFB\\r\\n-----011000010111000001101001--\\r\\n\\r\\n\"\n",
        "headers = {\n",
        "    \"accept\": \"application/json\",\n",
        "    \"content-type\": \"multipart/form-data; boundary=---011000010111000001101001\",\n",
        "    \"X-API-Key\": API_KEY\n",
        "}\n",
        "\n",
        "response = requests.post(url, data=payload, headers=headers)\n",
        "\n",
        "print(response.text)"
      ]
    },
    {
      "cell_type": "code",
      "source": [
        "import json"
      ],
      "metadata": {
        "id": "1cBSh8IaWG1J"
      },
      "execution_count": 4,
      "outputs": []
    },
    {
      "cell_type": "code",
      "source": [
        "print(json.loads(response.text)['quick_mint']['blockExplorer'])"
      ],
      "metadata": {
        "colab": {
          "base_uri": "https://localhost:8080/"
        },
        "id": "xzYDde7oVyel",
        "outputId": "b55ae860-1dc9-45d5-b12a-d541441c4c0e"
      },
      "execution_count": 13,
      "outputs": [
        {
          "output_type": "stream",
          "name": "stdout",
          "text": [
            "https://mumbai.polygonscan.com/tx/0x735c9df09c0bfbbc5c2c73fb92bbf88d8a362e9e3860c0375b325b443648551f\n"
          ]
        }
      ]
    },
    {
      "cell_type": "code",
      "source": [
        "CHAIN = \"goerli\"\n",
        "URL = \"https://ipfs.io/ipfs/bafkreigjkcafrutdcbicyr3new6aoowgbscf6wgqyty45ckd3xur7ymldm\"\n",
        "ADDRESS = \"[REDACTED]\""
      ],
      "metadata": {
        "id": "moKDfQu9Wvso"
      },
      "execution_count": 16,
      "outputs": []
    },
    {
      "cell_type": "code",
      "source": [
        "import requests\n",
        "\n",
        "url = \"https://api.verbwire.com/v1/nft/mint/quickMintFromMetadataUrl\"\n",
        "headers = {\n",
        "    \"X-API-Key\": API_KEY,\n",
        "    \"accept\": \"application/json\",\n",
        "}\n",
        "data = {\n",
        "    \"allowPlatformToOperateToken\": \"true\",\n",
        "    \"chain\": CHAIN,\n",
        "    \"metadataUrl\": URL,\n",
        "    \"recipientAddress\": ADDRESS,\n",
        "}\n",
        "\n",
        "response = requests.post(url, headers=headers, data=data)\n",
        "\n",
        "if response.status_code == 200:\n",
        "    print(\"NFT mint successful!\")\n",
        "    print(\"Etherscan Link:\", json.loads(response.text)['quick_mint']['blockExplorer'])\n",
        "else:\n",
        "    print(\"NFT minting failed!\")\n"
      ],
      "metadata": {
        "colab": {
          "base_uri": "https://localhost:8080/"
        },
        "id": "ZvX4goikWHnI",
        "outputId": "99bf20e6-9c9c-4fcb-aa12-db8eda0f9a4a"
      },
      "execution_count": 17,
      "outputs": [
        {
          "output_type": "stream",
          "name": "stdout",
          "text": [
            "NFT mint successful!\n",
            "Etherscan Link https://goerli.etherscan.io/tx/0xcb7385fbb45b09b952df6061b678171c862381ae8b2a5359b5de0d94f157bae3\n"
          ]
        }
      ]
    },
    {
      "cell_type": "code",
      "source": [],
      "metadata": {
        "id": "FDH5DulMWkyQ"
      },
      "execution_count": null,
      "outputs": []
    }
  ]
}